{
 "cells": [
  {
   "cell_type": "code",
   "execution_count": 1,
   "metadata": {},
   "outputs": [],
   "source": [
    "# IMPORTING ALL NECESSARY LIBRARIES\n",
    "\n",
    "import pandas as pd\n",
    "pd.set_option('display.max_rows', 100)\n",
    "pd.set_option('display.max_columns', 100)\n",
    "pd.set_option('expand_frame_repr', False)\n",
    "import numpy as np\n",
    "import seaborn as sns\n",
    "import matplotlib.pyplot as plt\n",
    "% matplotlib inline"
   ]
  },
  {
   "cell_type": "code",
   "execution_count": 2,
   "metadata": {},
   "outputs": [],
   "source": [
    "# IMPORTING THE TRAINING FILE\n",
    "\n",
    "df_train = pd.read_csv(\"C:\\\\Users\\\\sivac\\\\Documents\\\\Python Projects\\\\Banco Santander Kaggle\\\\input\\\\train.csv\")\n",
    "#df_test = pd.read_csv(\"C:\\\\Users\\\\sivac\\\\Documents\\\\Python Projects\\\\Banco Santander Kaggle\\\\input\\\\test.csv\")\n"
   ]
  },
  {
   "cell_type": "code",
   "execution_count": 3,
   "metadata": {},
   "outputs": [],
   "source": [
    "# PREPARING TRAIN DATA\n",
    "\n",
    "df_train.drop('ID_code', axis=1, inplace=True)\n",
    "y = df_train['target']\n",
    "x = df_train.drop('target', axis=1)\n",
    "\n",
    "#ID = df_test.ID_code\n",
    "#df_test.drop('ID_code', axis=1, inplace=True)"
   ]
  },
  {
   "cell_type": "markdown",
   "metadata": {},
   "source": [
    "IN ORDER TO PERFORM GUASSIAN MODEL, WE NEED TO MAKE SURE THEY ARE DISTRIBUTED NORMALLY AND THE PREDICTORS ARE INDEPENDENT OF EACH OTHER"
   ]
  },
  {
   "cell_type": "code",
   "execution_count": 5,
   "metadata": {},
   "outputs": [],
   "source": [
    "# # Standardizing data using Power Transformer\n",
    "# from sklearn.preprocessing import PowerTransformer\n",
    "\n",
    "# standardizeData = PowerTransformer(method='yeo-johnson', standardize=True)\n",
    "\n",
    "# x_cols = x.columns\n",
    "# x = standardizeData.fit_transform(x)\n",
    "# x = pd.DataFrame(data=x, columns=x_cols)\n",
    "\n",
    "# plt.subplot(211)\n",
    "# x[y==1].plot.kde(ind=100, legend=False)\n",
    "# plt.title('Classifier=1')\n",
    "# plt.subplot(212)\n",
    "# x[y==0].plot.kde(ind=100, legend=False)\n",
    "# plt.title('Classifier=0')\n",
    "# plt.show()"
   ]
  },
  {
   "cell_type": "code",
   "execution_count": 6,
   "metadata": {},
   "outputs": [],
   "source": [
    "# # STANDARDIZING FEATURES USING QUANTILE TRANSFORMER\n",
    "# from sklearn.preprocessing import QuantileTransformer\n",
    "\n",
    "# quantileTransformer = QuantileTransformer(output_distribution='normal')\n",
    "# colNames = x_train.columns\n",
    "\n",
    "# x_train = quantileTransformer.fit_transform(x_train)\n",
    "# x_train = pd.DataFrame(data=x_train, columns=colNames)\n",
    "\n",
    "# x_validation = quantileTransformer.fit_transform(x_validation)\n",
    "# x_validation = pd.DataFrame(data=x_validation, columns=colNames)"
   ]
  },
  {
   "cell_type": "code",
   "execution_count": 7,
   "metadata": {},
   "outputs": [],
   "source": [
    "# # Standardizing data using Min Max Scaler\n",
    "# from sklearn.preprocessing import MinMaxScaler\n",
    "\n",
    "# scaler = MinMaxScaler(feature_range=(0,1))\n",
    "# colNames = x.columns\n",
    "\n",
    "# x = scaler.fit_transform(x)\n",
    "# x = pd.DataFrame(data=x, columns=colNames)"
   ]
  },
  {
   "cell_type": "code",
   "execution_count": 4,
   "metadata": {},
   "outputs": [],
   "source": [
    "# TRAIN TEST SPLIT\n",
    "from sklearn.model_selection import train_test_split\n",
    "x_train, x_validation, y_train, y_validation = train_test_split(x,y, stratify=y, random_state=1, test_size=0.25)"
   ]
  },
  {
   "cell_type": "code",
   "execution_count": 9,
   "metadata": {},
   "outputs": [],
   "source": [
    "# # UNDER SAMPLING DATA\n",
    "# sampleData = x_train.copy()\n",
    "# sampleData['target'] = y_train\n",
    "\n",
    "# underSample_length = len(sampleData[sampleData.target == 1])\n",
    "\n",
    "# zero_target_indices = sampleData[sampleData.target == 0].index\n",
    "# random_indices = np.random.choice(zero_target_indices, underSample_length, replace=False)\n",
    "\n",
    "# target_data = sampleData[sampleData.target == 1]\n",
    "# zero_target_data = sampleData[sampleData.index.isin(random_indices)]\n",
    "# x_train = pd.concat([target_data, zero_target_data])\n",
    "\n",
    "# y_train = x_train['target']\n",
    "# x_train = x_train.drop('target', axis=1)\n",
    "\n",
    "# # OVERSAMPLING TRAINING DATA\n",
    "# from imblearn.over_sampling import SMOTE\n",
    "\n",
    "# os = SMOTE(random_state=0)\n",
    "# columns = x_train.columns\n",
    "# x_train,y_train =os.fit_sample(x_train, y_train)\n",
    "# x_train = pd.DataFrame(data=x_train,columns=columns )\n",
    "# y_train= pd.DataFrame(data=y_train,columns=['target'])"
   ]
  },
  {
   "cell_type": "code",
   "execution_count": 10,
   "metadata": {},
   "outputs": [],
   "source": [
    "# Running a Naive Bayes Guassian Model:\n",
    "# Guassian model because the predictors follow a Normal Distribution\n",
    "\n",
    "from sklearn.naive_bayes import GaussianNB\n",
    "model = GaussianNB()\n",
    "\n",
    "# Training the model using the training data\n",
    "\n",
    "model.fit(x_train, y_train)\n",
    "train_predictions = model.predict(x_train)\n",
    "predictions = model.predict(x_validation)"
   ]
  },
  {
   "cell_type": "code",
   "execution_count": 11,
   "metadata": {},
   "outputs": [
    {
     "name": "stdout",
     "output_type": "stream",
     "text": [
      "Confustion Matrix for Training Data\n",
      "[[132692   2235]\n",
      " [  9526   5547]]\n",
      "Confustion Matrix for Test Data\n",
      "[[44249   726]\n",
      " [ 3199  1826]]\n",
      "Classification Report for Training Data\n",
      "             precision    recall  f1-score   support\n",
      "\n",
      "          0       0.93      0.98      0.96    134927\n",
      "          1       0.71      0.37      0.49     15073\n",
      "\n",
      "avg / total       0.91      0.92      0.91    150000\n",
      "\n",
      "Classification Report for Test Data\n",
      "             precision    recall  f1-score   support\n",
      "\n",
      "          0       0.93      0.98      0.96     44975\n",
      "          1       0.72      0.36      0.48      5025\n",
      "\n",
      "avg / total       0.91      0.92      0.91     50000\n",
      "\n"
     ]
    }
   ],
   "source": [
    "from sklearn.metrics import confusion_matrix\n",
    "from sklearn.metrics import classification_report\n",
    "\n",
    "# Confusion Matrix Comparison\n",
    "print(\"Confustion Matrix for Training Data\")\n",
    "print(confusion_matrix(y_train, train_predictions))\n",
    "print(\"Confustion Matrix for Test Data\")\n",
    "print(confusion_matrix(y_validation, predictions))\n",
    "\n",
    "# Classification Report Comparison\n",
    "print(\"Classification Report for Training Data\")\n",
    "print(classification_report(y_train, train_predictions))\n",
    "print(\"Classification Report for Test Data\")\n",
    "print(classification_report(y_validation, predictions))"
   ]
  },
  {
   "cell_type": "code",
   "execution_count": 12,
   "metadata": {},
   "outputs": [
    {
     "name": "stdout",
     "output_type": "stream",
     "text": [
      "AUROC Plot: 0.8881\n"
     ]
    },
    {
     "data": {
      "image/png": "[encoded data removed]",
      "text/plain": [
       "<Figure size 432x288 with 1 Axes>"
      ]
     },
     "metadata": {},
     "output_type": "display_data"
    }
   ],
   "source": [
    "# AUC ROC CURVE\n",
    "from sklearn.metrics import roc_auc_score\n",
    "from sklearn.metrics import roc_curve\n",
    "\n",
    "predictions = model.predict_proba(x_validation)[:,1]\n",
    "roc_auc_score(y_validation, predictions, average='weighted')\n",
    "\n",
    "fpr, tpr, threshold = roc_curve(y_validation, predictions)\n",
    "\n",
    "# Calculating the AUC Score\n",
    "auc = np.trapz(tpr,fpr)\n",
    "pltTitle = print(\"AUROC Plot:\", \"%.4f\" %auc)\n",
    "\n",
    "# Plotting the ROC Curve\n",
    "plt.plot(fpr,tpr)\n",
    "plt.title(pltTitle)\n",
    "plt.show() "
   ]
  },
  {
   "cell_type": "code",
   "execution_count": 6,
   "metadata": {},
   "outputs": [
    {
     "name": "stdout",
     "output_type": "stream",
     "text": [
      "Confustion Matrix for Training Data - Logistic Regression\n",
      "[[133083   1844]\n",
      " [ 10993   4080]]\n",
      "Confustion Matrix for Test Data - Logistic Regression\n",
      "[[44374   601]\n",
      " [ 3664  1361]]\n",
      "Classification Report for Training Data - Logistic Regression\n",
      "             precision    recall  f1-score   support\n",
      "\n",
      "          0       0.92      0.99      0.95    134927\n",
      "          1       0.69      0.27      0.39     15073\n",
      "\n",
      "avg / total       0.90      0.91      0.90    150000\n",
      "\n",
      "Classification Report for Test Data - Logistic Regression\n",
      "             precision    recall  f1-score   support\n",
      "\n",
      "          0       0.92      0.99      0.95     44975\n",
      "          1       0.69      0.27      0.39      5025\n",
      "\n",
      "avg / total       0.90      0.91      0.90     50000\n",
      "\n",
      "AUROC Plot from Logistic Regression: 0.8585\n"
     ]
    },
    {
     "data": {
      "image/png": "[encoded data removed]",
      "text/plain": [
       "<Figure size 432x288 with 1 Axes>"
      ]
     },
     "metadata": {},
     "output_type": "display_data"
    }
   ],
   "source": [
    "# Running a Logistic Regression\n",
    "\n",
    "from sklearn.linear_model import LogisticRegression\n",
    "\n",
    "# Training the model using the training data\n",
    "\n",
    "model = LogisticRegression()\n",
    "model.fit(x_train, y_train)\n",
    "train_predictions = model.predict(x_train)\n",
    "predictions = model.predict(x_validation)\n",
    "\n",
    "from sklearn.metrics import confusion_matrix\n",
    "from sklearn.metrics import classification_report\n",
    "\n",
    "# Confusion Matrix Comparison\n",
    "print(\"Confustion Matrix for Training Data - Logistic Regression\")\n",
    "print(confusion_matrix(y_train, train_predictions))\n",
    "print(\"Confustion Matrix for Test Data - Logistic Regression\")\n",
    "print(confusion_matrix(y_validation, predictions))\n",
    "\n",
    "# Classification Report Comparison\n",
    "print(\"Classification Report for Training Data - Logistic Regression\")\n",
    "print(classification_report(y_train, train_predictions))\n",
    "print(\"Classification Report for Test Data - Logistic Regression\")\n",
    "print(classification_report(y_validation, predictions))\n",
    "\n",
    "from sklearn.metrics import roc_auc_score\n",
    "from sklearn.metrics import roc_curve\n",
    "\n",
    "predictions = model.predict_proba(x_validation)[:,1]\n",
    "roc_auc_score(y_validation, predictions, average='weighted')\n",
    "\n",
    "fpr, tpr, threshold = roc_curve(y_validation, predictions)\n",
    "\n",
    "# Calculating the AUC Score\n",
    "auc = np.trapz(tpr,fpr)\n",
    "pltTitle = print(\"AUROC Plot from Logistic Regression:\", \"%.4f\" %auc)\n",
    "\n",
    "# Plotting the ROC Curve\n",
    "plt.plot(fpr,tpr)\n",
    "plt.title(pltTitle)\n",
    "plt.show() "
   ]
  },
  {
   "cell_type": "code",
   "execution_count": 14,
   "metadata": {},
   "outputs": [
    {
     "name": "stdout",
     "output_type": "stream",
     "text": [
      "Confustion Matrix for Training Data - Random Forest\n",
      "[[134927      0]\n",
      " [  2208  12865]]\n",
      "Confustion Matrix for Test Data - Random Forest\n",
      "[[44915    60]\n",
      " [ 4934    91]]\n",
      "Classification Report for Training Data - Random Forest\n",
      "             precision    recall  f1-score   support\n",
      "\n",
      "          0       0.98      1.00      0.99    134927\n",
      "          1       1.00      0.85      0.92     15073\n",
      "\n",
      "avg / total       0.99      0.99      0.98    150000\n",
      "\n",
      "Classification Report for Test Data - Random Forest\n",
      "             precision    recall  f1-score   support\n",
      "\n",
      "          0       0.90      1.00      0.95     44975\n",
      "          1       0.60      0.02      0.04      5025\n",
      "\n",
      "avg / total       0.87      0.90      0.86     50000\n",
      "\n",
      "AUROC Plot from Random Forest: 0.7063\n"
     ]
    },
    {
     "data": {
      "image/png": "[encoded data removed]",
      "text/plain": [
       "<Figure size 432x288 with 1 Axes>"
      ]
     },
     "metadata": {},
     "output_type": "display_data"
    }
   ],
   "source": [
    "# Running a Random Forest Classifier\n",
    "\n",
    "from sklearn.ensemble import RandomForestClassifier\n",
    "\n",
    "# Training the model using the training data\n",
    "model = RandomForestClassifier()\n",
    "model.fit(x_train, y_train)\n",
    "train_predictions = model.predict(x_train)\n",
    "predictions = model.predict(x_validation)\n",
    "\n",
    "from sklearn.metrics import confusion_matrix\n",
    "from sklearn.metrics import classification_report\n",
    "\n",
    "# Confusion Matrix Comparison\n",
    "print(\"Confustion Matrix for Training Data - Random Forest\")\n",
    "print(confusion_matrix(y_train, train_predictions))\n",
    "print(\"Confustion Matrix for Test Data - Random Forest\")\n",
    "print(confusion_matrix(y_validation, predictions))\n",
    "\n",
    "# Classification Report Comparison\n",
    "print(\"Classification Report for Training Data - Random Forest\")\n",
    "print(classification_report(y_train, train_predictions))\n",
    "print(\"Classification Report for Test Data - Random Forest\")\n",
    "print(classification_report(y_validation, predictions))\n",
    "\n",
    "from sklearn.metrics import roc_auc_score\n",
    "from sklearn.metrics import roc_curve\n",
    "\n",
    "predictions = model.predict_proba(x_validation)[:,1]\n",
    "roc_auc_score(y_validation, predictions, average='weighted')\n",
    "\n",
    "fpr, tpr, threshold = roc_curve(y_validation, predictions)\n",
    "\n",
    "# Calculating the AUC Score\n",
    "auc = np.trapz(tpr,fpr)\n",
    "pltTitle = print(\"AUROC Plot from Random Forest:\", \"%.4f\" %auc)\n",
    "\n",
    "# Plotting the ROC Curve\n",
    "plt.plot(fpr,tpr)\n",
    "plt.title(pltTitle)\n",
    "plt.show() "
   ]
  },
  {
   "cell_type": "code",
   "execution_count": 15,
   "metadata": {},
   "outputs": [
    {
     "name": "stdout",
     "output_type": "stream",
     "text": [
      "Confustion Matrix for Training Data - Decision Tree\n",
      "[[134927      0]\n",
      " [     0  15073]]\n",
      "Confustion Matrix for Test Data - Decision Tree\n",
      "[[40671  4304]\n",
      " [ 3999  1026]]\n",
      "Classification Report for Training Data - Decision Tree\n",
      "             precision    recall  f1-score   support\n",
      "\n",
      "          0       1.00      1.00      1.00    134927\n",
      "          1       1.00      1.00      1.00     15073\n",
      "\n",
      "avg / total       1.00      1.00      1.00    150000\n",
      "\n",
      "Classification Report for Test Data - Decision Tree\n",
      "             precision    recall  f1-score   support\n",
      "\n",
      "          0       0.91      0.90      0.91     44975\n",
      "          1       0.19      0.20      0.20      5025\n",
      "\n",
      "avg / total       0.84      0.83      0.84     50000\n",
      "\n",
      "AUROC Plot from Decision Tree: 0.5542\n"
     ]
    },
    {
     "data": {
      "image/png": "[encoded data removed]",
      "text/plain": [
       "<Figure size 432x288 with 1 Axes>"
      ]
     },
     "metadata": {},
     "output_type": "display_data"
    }
   ],
   "source": [
    "# Running a Decision Tree Classifier\n",
    "\n",
    "from sklearn.tree import DecisionTreeClassifier\n",
    "\n",
    "# Training the model using the training data\n",
    "model = DecisionTreeClassifier()\n",
    "model.fit(x_train, y_train)\n",
    "train_predictions = model.predict(x_train)\n",
    "predictions = model.predict(x_validation)\n",
    "\n",
    "from sklearn.metrics import confusion_matrix\n",
    "from sklearn.metrics import classification_report\n",
    "\n",
    "# Confusion Matrix Comparison\n",
    "print(\"Confustion Matrix for Training Data - Decision Tree\")\n",
    "print(confusion_matrix(y_train, train_predictions))\n",
    "print(\"Confustion Matrix for Test Data - Decision Tree\")\n",
    "print(confusion_matrix(y_validation, predictions))\n",
    "\n",
    "# Classification Report Comparison\n",
    "print(\"Classification Report for Training Data - Decision Tree\")\n",
    "print(classification_report(y_train, train_predictions))\n",
    "print(\"Classification Report for Test Data - Decision Tree\")\n",
    "print(classification_report(y_validation, predictions))\n",
    "\n",
    "from sklearn.metrics import roc_auc_score\n",
    "from sklearn.metrics import roc_curve\n",
    "\n",
    "predictions = model.predict_proba(x_validation)[:,1]\n",
    "roc_auc_score(y_validation, predictions, average='weighted')\n",
    "\n",
    "fpr, tpr, threshold = roc_curve(y_validation, predictions)\n",
    "\n",
    "# Calculating the AUC Score\n",
    "auc = np.trapz(tpr,fpr)\n",
    "pltTitle = print(\"AUROC Plot from Decision Tree:\", \"%.4f\" %auc)\n",
    "\n",
    "# Plotting the ROC Curve\n",
    "plt.plot(fpr,tpr)\n",
    "plt.title(pltTitle)\n",
    "plt.show() "
   ]
  },
  {
   "cell_type": "code",
   "execution_count": null,
   "metadata": {},
   "outputs": [],
   "source": [
    "# # Running a Support Vector Machine\n",
    "\n",
    "# from sklearn.svm import SVC\n",
    "\n",
    "# # Training the model using the training data\n",
    "# model = SVC()\n",
    "# model.fit(x_train, y_train)\n",
    "# train_predictions = model.predict(x_train)\n",
    "# predictions = model.predict(x_validation)\n",
    "\n",
    "# from sklearn.metrics import confusion_matrix\n",
    "# from sklearn.metrics import classification_report\n",
    "\n",
    "# # Confusion Matrix Comparison\n",
    "# print(\"Confustion Matrix for Training Data - Support Vector Machine\")\n",
    "# print(confusion_matrix(y_train, train_predictions))\n",
    "# print(\"Confustion Matrix for Test Data - Support Vector Machine\")\n",
    "# print(confusion_matrix(y_validation, predictions))\n",
    "\n",
    "# # Classification Report Comparison\n",
    "# print(\"Classification Report for Training Data - Support Vector Machine\")\n",
    "# print(classification_report(y_train, train_predictions))\n",
    "# print(\"Classification Report for Test Data - Support Vector Machine\")\n",
    "# print(classification_report(y_validation, predictions))\n",
    "\n",
    "# from sklearn.metrics import roc_auc_score\n",
    "# from sklearn.metrics import roc_curve\n",
    "\n",
    "# predictions = model.predict_proba(x_validation)[:,1]\n",
    "# roc_auc_score(y_validation, predictions, average='weighted')\n",
    "\n",
    "# fpr, tpr, threshold = roc_curve(y_validation, predictions)\n",
    "\n",
    "# # Calculating the AUC Score\n",
    "# auc = np.trapz(tpr,fpr)\n",
    "# pltTitle = print(\"AUROC Plot from Decision Tree:\", \"%.4f\" %auc)\n",
    "\n",
    "# # Plotting the ROC Curve\n",
    "# plt.plot(fpr,tpr)\n",
    "# plt.title(pltTitle)\n",
    "# plt.show() "
   ]
  },
  {
   "cell_type": "code",
   "execution_count": null,
   "metadata": {},
   "outputs": [],
   "source": []
  },
  {
   "cell_type": "code",
   "execution_count": 15,
   "metadata": {},
   "outputs": [],
   "source": [
    "# # APPLYING THE MODEL TO TEST DATA\n",
    "\n",
    "# df_test = scaler.fit_transform(df_test)\n",
    "# df_test = pd.DataFrame(data=df_test, columns=colNames)\n",
    "# predictions = model.predict_proba(df_test)[:,1]\n",
    "# output = pd.DataFrame({'ID_code': ID, 'target': predictions})"
   ]
  },
  {
   "cell_type": "code",
   "execution_count": null,
   "metadata": {},
   "outputs": [],
   "source": [
    "# output.to_csv(\"C:\\\\Users\\\\sivac\\\\Documents\\\\Python Projects\\\\Banco Santander Kaggle\\\\output\\\\Submission 17 - Naive Bayes Using MinMax Transformation Prob.csv\", index=False)"
   ]
  }
 ],
 "metadata": {
  "kernelspec": {
   "display_name": "Python 3",
   "language": "python",
   "name": "python3"
  },
  "language_info": {
   "codemirror_mode": {
    "name": "ipython",
    "version": 3
   },
   "file_extension": ".py",
   "mimetype": "text/x-python",
   "name": "python",
   "nbconvert_exporter": "python",
   "pygments_lexer": "ipython3",
   "version": "3.6.5"
  }
 },
 "nbformat": 4,
 "nbformat_minor": 2
}
